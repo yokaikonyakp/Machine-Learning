{
 "cells": [
  {
   "cell_type": "code",
   "execution_count": 16,
   "id": "417480d5",
   "metadata": {},
   "outputs": [],
   "source": [
    "# Importing all the necessary libraries\n",
    "from sklearn.datasets import load_iris\n",
    "#This line import the datasets load_iris from sklearn\n",
    "\n",
    "from sklearn.neighbors import KNeighborsClassifier\n",
    "#KNeighborsClassifier is a classifier algo based on the k-nearest neighbors approach\n",
    "\n",
    "from sklearn.model_selection import cross_val_score\n",
    "#cross_val_score is a function that performs cross validation, which helps evalute the performance of a machine learning model by splitting data into training and test sets multiple times.\n",
    "\n",
    "from sklearn.model_selection import train_test_split\n",
    "#train_test_split is used to split the dataset into training and testing subsets, allowing us to evaluate the model's performance on unseen data.\n",
    "\n",
    "from sklearn.metrics import confusion_matrix\n",
    "#confusion_matrix is used to calculate the confusion matrix, which helps analyze the performance of a classification model by comparing predicted labels with true labels.\n",
    "\n",
    "import matplotlib.pyplot as plt\n",
    "\n",
    "%matplotlib inline\n",
    "#This is called a magic command in Jupyter Notebook or IPython. It enables inline plotting, which means that plots created using matplotlib.pyplot will be displayed directly in the notebook or IPython console output.\n"
   ]
  },
  {
   "cell_type": "markdown",
   "id": "3c035b7d",
   "metadata": {},
   "source": [
    "X and y are the assigned variables for data and target.\n",
    "Each row in X represents a sample (an iris flower), and each column represents a feature.\n",
    "The irisData.target attribute represents the target labels, which are the class labels for each iris flower. "
   ]
  },
  {
   "cell_type": "code",
   "execution_count": 17,
   "id": "c41899bd",
   "metadata": {},
   "outputs": [
    {
     "name": "stdout",
     "output_type": "stream",
     "text": [
      "X matrix dimensionality: (150, 4)\n",
      "Y vector dimensionality: (150,)\n"
     ]
    }
   ],
   "source": [
    "# Loading data \n",
    "irisData = load_iris() \n",
    "\n",
    "# Create feature and target arrays \n",
    "X = irisData.data \n",
    "y = irisData.target \n",
    "  \n",
    "# Printing Data shape    \n",
    "print('X matrix dimensionality:', X.shape)\n",
    "print('Y vector dimensionality:', y.shape)"
   ]
  },
  {
   "cell_type": "code",
   "execution_count": 18,
   "id": "192c6a85",
   "metadata": {},
   "outputs": [],
   "source": [
    "# Split into training dataset and test dataset \n",
    "X_train, X_test, y_train, y_test = train_test_split(X, y, test_size = 0.25, random_state=5)"
   ]
  },
  {
   "cell_type": "code",
   "execution_count": 19,
   "id": "cfe4c8c9",
   "metadata": {},
   "outputs": [
    {
     "name": "stdout",
     "output_type": "stream",
     "text": [
      "[1 2 2 0 2 1 0 2 0 1 1 2 2 2 0 0 2 2 0 0 1 2 0 2 1 2 1 1 1 2 0 1 1 0 1 0 0\n",
      " 2]\n"
     ]
    }
   ],
   "source": [
    "# Model Building\n",
    "knn = KNeighborsClassifier(n_neighbors=4) \n",
    "# The n_neighbors parameter is set to 4, which specifies the number of neighbors used for classification. It determines how many neighboring samples are considered when making predictions.\n",
    "# Here we can specify 4 things: n_neighbors, weights, algorithm and metric.\n",
    "  \n",
    "# Fitting the model\n",
    "knn.fit(X_train, y_train) \n",
    "  \n",
    "# Predict on dataset which model has not seen before \n",
    "#The predict() method is called on the trained knn model to make predictions on unseen data. Here, X_test represents the feature data of a dataset that the model has not seen during training.\n",
    "y_pred = knn.predict(X_test)\n",
    "print(y_pred)"
   ]
  },
  {
   "cell_type": "code",
   "execution_count": 20,
   "id": "fde4be6a",
   "metadata": {},
   "outputs": [
    {
     "data": {
      "text/plain": [
       "array([[12,  0,  0],\n",
       "       [ 0, 12,  2],\n",
       "       [ 0,  0, 12]], dtype=int64)"
      ]
     },
     "execution_count": 20,
     "metadata": {},
     "output_type": "execute_result"
    }
   ],
   "source": [
    "#making the confusion matrix\n",
    "cm = confusion_matrix(y_test, y_pred)\n",
    "cm"
   ]
  },
  {
   "cell_type": "markdown",
   "id": "5638c98d",
   "metadata": {},
   "source": [
    "A confusion matrix is a table that summarizes the performance of a classification model by showing the counts of true positive, true negative, false positive, and false negative predictions. It is a useful tool for evaluating the accuracy and reliability of a classification model."
   ]
  },
  {
   "cell_type": "code",
   "execution_count": 21,
   "id": "4b1835ed",
   "metadata": {},
   "outputs": [
    {
     "name": "stdout",
     "output_type": "stream",
     "text": [
      "[1.  1.  0.9 1.  1.  1.  0.7 1.  1.  0.9 0.9 1.  1.  1.  1. ]\n"
     ]
    }
   ],
   "source": [
    "#15- fold (cv= 15) cross-validation with k = 4 (neighbors =4) for KNN (the n_neighbors parameter)\n",
    "\n",
    "#Instantiate model \n",
    "knn = KNeighborsClassifier(n_neighbors = 4)\n",
    "\n",
    "#cross_val_score takes care of the splitting x and y into the 15 folds that's why (we) pass x and y entirely instead of x_train and y_train\n",
    "scores = cross_val_score(knn, X, y, cv = 15, scoring = 'accuracy')\n",
    "print(scores)"
   ]
  },
  {
   "cell_type": "markdown",
   "id": "e6f81555",
   "metadata": {},
   "source": [
    "cv: The number of folds or subdivisions of the data for cross-validation. Here, it is set to 15, indicating that the data will be divided into 15 parts for cross-validation.\n",
    "scoring: The scoring metric used to evaluate the model's performance. In this case, it is set to 'accuracy', which measures the proportion of correctly classified instances."
   ]
  },
  {
   "cell_type": "code",
   "execution_count": 22,
   "id": "d6c3e064",
   "metadata": {},
   "outputs": [
    {
     "name": "stdout",
     "output_type": "stream",
     "text": [
      "0.9600000000000001\n"
     ]
    }
   ],
   "source": [
    "#mean score\n",
    "print(scores.mean())"
   ]
  },
  {
   "cell_type": "markdown",
   "id": "8c831cef",
   "metadata": {},
   "source": [
    "A range object is created using the range() function. The range starts from 1 and ends at 14 (15 is excluded). This range represents the values of k that will be tested in the subsequent code.The purpose of this range is to specify the values of k (number of neighbors) that will be evaluated to determine the optimal value for the K-nearest neighbors algorithm.\n",
    "In this line of code, an empty list named k_scores is created. This list will be used to store the scores obtained from evaluating the K-nearest neighbors algorithm for different values of k.\n",
    "The purpose of this list is to collect and store the performance scores of the algorithm for each k value tested. These scores can later be analyzed or visualized to identify the value of k that provides the best performance for the given task."
   ]
  },
  {
   "cell_type": "code",
   "execution_count": 24,
   "id": "ff762e46",
   "metadata": {},
   "outputs": [
    {
     "name": "stdout",
     "output_type": "stream",
     "text": [
      "[0.9600000000000001, 0.9466666666666668, 0.9600000000000001, 0.9600000000000001, 0.9733333333333333, 0.9666666666666667, 0.9666666666666667, 0.9733333333333334, 0.9733333333333334, 0.9666666666666668, 0.9800000000000001, 0.9733333333333334, 0.9800000000000001, 0.9866666666666667]\n"
     ]
    }
   ],
   "source": [
    "#searching for an optimal val of k for KNN\n",
    "\n",
    "#list of scores from k_range\n",
    "k_range = range(1, 15)\n",
    "\n",
    "#list to store score\n",
    "k_scores= []\n",
    "\n",
    "#looping through values of k\n",
    "# This loop will iterate over the specified range of k values, allowing to evaluate the K-nearest neighbors algorithm for different numbers of neighbors.\n",
    "for k in k_range:\n",
    "    \n",
    "    #running KNeighborsClassifier with k neighbors\n",
    "    #The n_neighbors parameter is set to the current value of k from the loop. \n",
    "    #This means that the number of neighbors used for classification will vary for each iteration of the loop.\n",
    "    knn = KNeighborsClassifier(n_neighbors = k)\n",
    "    \n",
    "    #obtaining cross_val_score for KNeighborsClassifier with k neighbors\n",
    "    # The cross_val_score() function returns an array of scores, representing the accuracy of the model on each fold of the data.\n",
    "    scores = cross_val_score(knn, X, y, cv = 15, scoring = 'accuracy')\n",
    "    \n",
    "    #appending mean of scores for k neighbors to k_score list\n",
    "    #This line appends the mean of the scores obtained from cross-validation to the k_scores list. \n",
    "    #scores.mean() calculates the average of the scores obtained for the current value of k\n",
    "    k_scores.append(scores.mean())\n",
    "print(k_scores)\n"
   ]
  },
  {
   "cell_type": "code",
   "execution_count": 25,
   "id": "2abe54d9",
   "metadata": {},
   "outputs": [
    {
     "data": {
      "text/plain": [
       "Text(0, 0.5, 'Cross-Validated Accuracy')"
      ]
     },
     "execution_count": 25,
     "metadata": {},
     "output_type": "execute_result"
    },
    {
     "data": {
      "image/png": "[encoded data removed]",
      "text/plain": [
       "<Figure size 640x480 with 1 Axes>"
      ]
     },
     "metadata": {},
     "output_type": "display_data"
    }
   ],
   "source": [
    "#plotting the value of k for KNN (x-axis) versus the cross-validated accuracy (y-axis)\n",
    "plt.plot(k_range, k_scores)\n",
    "plt.xlabel('Value of K for KNN')\n",
    "plt.ylabel('Cross-Validated Accuracy')"
   ]
  },
  {
   "cell_type": "code",
   "execution_count": 26,
   "id": "3f3dbf0f",
   "metadata": {},
   "outputs": [
    {
     "name": "stdout",
     "output_type": "stream",
     "text": [
      "[1.  1.  0.9 1.  1.  1.  1.  1.  1.  0.9 1.  1.  1.  1.  1. ]\n"
     ]
    }
   ],
   "source": [
    "#optimum model\n",
    "knn = KNeighborsClassifier(n_neighbors = 14)\n",
    "\n",
    "#prinyting scores\n",
    "print(scores)"
   ]
  },
  {
   "cell_type": "code",
   "execution_count": 27,
   "id": "e8f64408",
   "metadata": {},
   "outputs": [
    {
     "name": "stdout",
     "output_type": "stream",
     "text": [
      "0.9866666666666667\n"
     ]
    }
   ],
   "source": [
    "#printing mean scores\n",
    "print(scores.mean())"
   ]
  },
  {
   "cell_type": "code",
   "execution_count": null,
   "id": "01f97a42",
   "metadata": {},
   "outputs": [],
   "source": []
  }
 ],
 "metadata": {
  "kernelspec": {
   "display_name": "Python 3 (ipykernel)",
   "language": "python",
   "name": "python3"
  },
  "language_info": {
   "codemirror_mode": {
    "name": "ipython",
    "version": 3
   },
   "file_extension": ".py",
   "mimetype": "text/x-python",
   "name": "python",
   "nbconvert_exporter": "python",
   "pygments_lexer": "ipython3",
   "version": "3.11.2"
  }
 },
 "nbformat": 4,
 "nbformat_minor": 5
}
